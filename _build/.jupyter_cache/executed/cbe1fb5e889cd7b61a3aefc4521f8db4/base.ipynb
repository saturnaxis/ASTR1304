{
 "cells": [
  {
   "cell_type": "code",
   "execution_count": 1,
   "metadata": {},
   "outputs": [
    {
     "name": "stdout",
     "output_type": "stream",
     "text": [
      "Saturn's sidereal period is 29.4 yr.\n"
     ]
    }
   ],
   "source": [
    "E = 365.25 #Earth's sidereal period (in days)\n",
    "S = 378.1 #Saturn's synodic period (in days)\n",
    "\n",
    "P_inv = 1- (E/S) #1/P (Saturn's siderial period)\n",
    "P = 1/P_inv \n",
    "\n",
    "print(\"Saturn's sidereal period is %2.1f yr.\" % P)"
   ]
  },
  {
   "cell_type": "code",
   "execution_count": 2,
   "metadata": {},
   "outputs": [
    {
     "name": "stdout",
     "output_type": "stream",
     "text": [
      "Saturn's heliocentric longitude at quadrature is 83.8 deg.\n",
      "The Saturn-Sun distance is 9.3 AU.\n"
     ]
    }
   ],
   "source": [
    "import numpy as np\n",
    "\n",
    "S = 1.035 #Saturn's synodic period (in yr)\n",
    "\n",
    "T = 0.241 # Time between Saturn's opposition and next quadrature (in yr)\n",
    "lamb = (T/S)*360. #heliocentric longitude (in degrees)\n",
    "\n",
    "print(\"Saturn's heliocentric longitude at quadrature is %2.1f deg.\" % lamb)\n",
    "\n",
    "d_sat = 1/np.cos(np.radians(lamb))\n",
    "print(\"The Saturn-Sun distance is %1.1f AU.\" % d_sat)\n"
   ]
  }
 ],
 "metadata": {
  "kernelspec": {
   "display_name": "base",
   "language": "python",
   "name": "python3"
  },
  "language_info": {
   "codemirror_mode": {
    "name": "ipython",
    "version": 3
   },
   "file_extension": ".py",
   "mimetype": "text/x-python",
   "name": "python",
   "nbconvert_exporter": "python",
   "pygments_lexer": "ipython3",
   "version": "3.11.5"
  }
 },
 "nbformat": 4,
 "nbformat_minor": 2
}