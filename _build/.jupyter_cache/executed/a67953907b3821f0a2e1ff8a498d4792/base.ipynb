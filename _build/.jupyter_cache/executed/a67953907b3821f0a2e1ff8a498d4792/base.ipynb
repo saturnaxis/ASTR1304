{
 "cells": [
  {
   "cell_type": "code",
   "execution_count": 1,
   "metadata": {},
   "outputs": [
    {
     "name": "stdout",
     "output_type": "stream",
     "text": [
      "The frequency of light at 500 nm is 6e+14 Hz.\n"
     ]
    }
   ],
   "source": [
    "#speed of light; c = 3 x 10^8 m/s\n",
    "#wavelength of light; lambda = 500 nm = 5 x 10^-7 m\n",
    "\n",
    "c = 3e8 #the exoponent from the power of 10 comes after the \"e\"\n",
    "lamb = 5e-7 #this notation can include negative exponents too\n",
    "\n",
    "freq = c/lamb #once coded, you can use the values to perform calculations\n",
    "\n",
    "print(\"The frequency of light at 500 nm is %1.0e Hz.\" % freq)"
   ]
  }
 ],
 "metadata": {
  "kernelspec": {
   "display_name": "base",
   "language": "python",
   "name": "python3"
  },
  "language_info": {
   "codemirror_mode": {
    "name": "ipython",
    "version": 3
   },
   "file_extension": ".py",
   "mimetype": "text/x-python",
   "name": "python",
   "nbconvert_exporter": "python",
   "pygments_lexer": "ipython3",
   "version": "3.11.5"
  }
 },
 "nbformat": 4,
 "nbformat_minor": 2
}