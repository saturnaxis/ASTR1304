{
 "cells": [
  {
   "cell_type": "code",
   "execution_count": 1,
   "metadata": {},
   "outputs": [
    {
     "name": "stdout",
     "output_type": "stream",
     "text": [
      "The mass of Jupiter (in solar masses) is 9.52e-04 M_sun.\n"
     ]
    }
   ],
   "source": [
    "P_meas = 3.55 #measured orbital period of Europa (in days)\n",
    "P_yr = 3.55/365.25 #converted period to years\n",
    "\n",
    "a_meas = 4.48e-3 #measured semimajor axis (in AU)\n",
    "\n",
    "M = a_meas**3/P_yr**2\n",
    "\n",
    "print(\"The mass of Jupiter (in solar masses) is %1.2e M_sun.\" % M)  #The notation \"e-04\" is the same as \"times 10^{-4}\""
   ]
  }
 ],
 "metadata": {
  "kernelspec": {
   "display_name": "base",
   "language": "python",
   "name": "python3"
  },
  "language_info": {
   "codemirror_mode": {
    "name": "ipython",
    "version": 3
   },
   "file_extension": ".py",
   "mimetype": "text/x-python",
   "name": "python",
   "nbconvert_exporter": "python",
   "pygments_lexer": "ipython3",
   "version": "3.11.5"
  }
 },
 "nbformat": 4,
 "nbformat_minor": 2
}