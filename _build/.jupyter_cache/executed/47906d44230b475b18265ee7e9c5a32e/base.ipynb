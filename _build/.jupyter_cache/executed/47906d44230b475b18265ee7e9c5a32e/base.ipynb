{
 "cells": [
  {
   "cell_type": "code",
   "execution_count": 1,
   "metadata": {},
   "outputs": [
    {
     "name": "stdout",
     "output_type": "stream",
     "text": [
      "The wavelength lambda for KEGL is 97100000.00 m.\n",
      "----------------\n",
      "The frequency for a green wavelength at 530 nm is 5.66e+14 Hz.\n"
     ]
    }
   ],
   "source": [
    "from scipy.constants import c #get the value for the speed of light using the scipy.constants library\n",
    "KEGL_f = 9.71e7 #FM frequency for 97.1 (KEGL)\n",
    "\n",
    "lamb = c/KEGL_f\n",
    "print(\"The wavelength lambda for KEGL is %1.2f m.\" % KEGL_f)\n",
    "print('----------------')\n",
    "\n",
    "green_lamb = 530*1e-9 #green wavelength at 530 nm (converted to m)\n",
    "\n",
    "green_freq = c/green_lamb\n",
    "print(\"The frequency for a green wavelength at 530 nm is %1.2e Hz.\" % green_freq)\n"
   ]
  },
  {
   "cell_type": "code",
   "execution_count": 2,
   "metadata": {},
   "outputs": [
    {
     "name": "stdout",
     "output_type": "stream",
     "text": [
      "The measured radial velocity is 1233 km/s.\n",
      "---------------\n",
      "The expected observed wavelength for Mg I with the given radial velocity is 517.23 nm.\n"
     ]
    }
   ],
   "source": [
    "from scipy.constants import c\n",
    "\n",
    "Halpha_rest = 656.3 #rest wavelength of H-alpha\n",
    "Halpha_obs = 659.0 #observed wavelength of H-alpha\n",
    "c_kms = c/1000 #converted speed of light to km/s\n",
    "\n",
    "v_r = (Halpha_obs-Halpha_rest)/Halpha_rest*c_kms \n",
    "print(\"The measured radial velocity is %04i km/s.\" % v_r)\n",
    "print(\"---------------\")\n",
    "\n",
    "Mg_rest = 517.27 #rest wavelength of the Mg I line (in nm)\n",
    "vr_measured = -21.6 #reported radial velocity of Proxima Cen (in km/s)\n",
    "lamb_obs = (1+vr_measured/c_kms)*Mg_rest\n",
    "print(\"The expected observed wavelength for Mg I with the given radial velocity is %3.2f nm.\" % lamb_obs)"
   ]
  },
  {
   "cell_type": "code",
   "execution_count": 3,
   "metadata": {},
   "outputs": [
    {
     "name": "stdout",
     "output_type": "stream",
     "text": [
      "The solar flux is 6.32e+07 W/m^2.\n",
      "----------------\n",
      "The solar luminosity is 3.84e+26 W.\n",
      "---------------\n",
      "The Earth-Sun flux ratio is 6.18e-06.\n",
      "---------------\n",
      "The Earth-Sun luminosity ratio is 5.18e-10.\n"
     ]
    }
   ],
   "source": [
    "import numpy as np\n",
    "from scipy.constants import sigma \n",
    "\n",
    "Tsun_eff = 5777 #effective temperature of the Sun's surface (in K)\n",
    "F_sun = sigma*Tsun_eff**4\n",
    "R_sun = 6.957e8 #solar radius (in m)\n",
    "\n",
    "print(\"The solar flux is %1.2e W/m^2.\" % F_sun)\n",
    "print(\"----------------\")\n",
    "\n",
    "A_sun = 4*np.pi*R_sun**2\n",
    "L_sun = A_sun*F_sun \n",
    "print(\"The solar luminosity is %1.2e W.\" % L_sun)\n",
    "print(\"---------------\")\n",
    "\n",
    "TEarth = 288 #average temperature of the Earth (in K)\n",
    "F_ratio = (TEarth/Tsun_eff)**4\n",
    "print(\"The Earth-Sun flux ratio is %1.2e.\" % F_ratio)\n",
    "print(\"---------------\")\n",
    "\n",
    "R_Earth = 6371 #Earth radius (in km)\n",
    "L_ratio = (R_Earth/(R_sun/1000))**2*F_ratio \n",
    "print(\"The Earth-Sun luminosity ratio is %1.2e.\" % L_ratio)"
   ]
  }
 ],
 "metadata": {
  "kernelspec": {
   "display_name": "base",
   "language": "python",
   "name": "python3"
  },
  "language_info": {
   "codemirror_mode": {
    "name": "ipython",
    "version": 3
   },
   "file_extension": ".py",
   "mimetype": "text/x-python",
   "name": "python",
   "nbconvert_exporter": "python",
   "pygments_lexer": "ipython3",
   "version": "3.11.5"
  }
 },
 "nbformat": 4,
 "nbformat_minor": 2
}