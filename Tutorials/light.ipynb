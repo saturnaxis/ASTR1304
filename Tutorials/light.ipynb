{
 "cells": [
  {
   "cell_type": "markdown",
   "metadata": {},
   "source": [
    "# Light"
   ]
  },
  {
   "cell_type": "markdown",
   "metadata": {},
   "source": [
    "## Working with Electromagnetic Radiation\n",
    "\n",
    "### Wavelength and Frequency\n",
    "\n",
    "Each radio station on you receive on your car radio transmits at a different frequency, where the radio tuner selects which frequency is decoded and sent to the speakers.  KEGL (97.1 the Eagle in Dallas) broadcasts over FM (frequency modulation) at 97.1 MHz or $9.71 \\times 10^7\\ {\\rm Hz}$.  We can use the relationship between wavelength and frequency, $c = \\lambda f,$ to calculate the wavelength of the FM signal:\n",
    "\n",
    "$$ \\lambda = \\frac{c}{f} = \\frac{3\\times 10^8\\ {\\rm m/s}}{9.71\\times 10^7\\ {\\rm s^{-1}}} = 3.09\\ {\\rm m}. $$\n",
    "\n",
    "AM ([amplitude modulation](https://en.wikipedia.org/wiki/Amplitude_modulation)) wavelengths are longer than FM wavelengths.  \n",
    "\n",
    "The human ey is most sensitive to light in green and yellow wavelengths, about $500-590\\ {\\rm nm}$.  If we examne green light with a wavelength of $530\\ {\\rm nm}$, we can compute its frequency:\n",
    "\n",
    "$$ f = \\frac{c}{\\lambda} = \\frac{3\\times 10^8\\ {\\rm m/s}}{5.3\\times 10^{-7}\\ {\\rm m}} = 5.66 \\times 10^{14}\\ {\\rm Hz}. $$\n",
    "\n",
    "That freqeuncy corresponds to 566 *trillion* wave crests passing by each second.  \n",
    "\n",
    "Below is a python script demonstrating the above calculations.  **Note: this script uses the [scipy.constants](https://docs.scipy.org/doc/scipy/reference/constants.html) library, which is handy for obtaining precise values for fundamental constants (e.g., the speed of light).**"
   ]
  },
  {
   "cell_type": "code",
   "execution_count": 2,
   "metadata": {},
   "outputs": [
    {
     "name": "stdout",
     "output_type": "stream",
     "text": [
      "The wavelength lambda for KEGL is 97100000.00 m.\n",
      "----------------\n",
      "The frequency for a green wavelength at 530 nm is 5.66e+14 Hz.\n"
     ]
    }
   ],
   "source": [
    "from scipy.constants import c #get the value for the speed of light using the scipy.constants library\n",
    "KEGL_f = 9.71e7 #FM frequency for 97.1 (KEGL)\n",
    "\n",
    "lamb = c/KEGL_f\n",
    "print(\"The wavelength lambda for KEGL is %1.2f m.\" % KEGL_f)\n",
    "print('----------------')\n",
    "\n",
    "green_lamb = 530*1e-9 #green wavelength at 530 nm (converted to m)\n",
    "\n",
    "green_freq = c/green_lamb\n",
    "print(\"The frequency for a green wavelength at 530 nm is %1.2e Hz.\" % green_freq)\n"
   ]
  },
  {
   "cell_type": "markdown",
   "metadata": {},
   "source": [
    "### Photon Energy\n",
    "\n",
    "How does the energy of a photon relate to its wavelength?  The energy of a photon is directly related to its frequency through the equation $E = hf$.  We can transform this equation to be in terms of the wavelength instead using the relationship between the wavelength, frequency and speed of light.  Then, the equation becomes\n",
    "\n",
    "\\begin{align*}\n",
    "E = \\begin{cases}\n",
    "hf, \\\\\n",
    "\\frac{hc}{\\lambda}.\n",
    "\\end{cases}\n",
    "\\end{align*}\n",
    "\n",
    "In both cases the energy also depends on Planck's constant $h$, which is $6.626 \\times 10^{-34}\\ {\\rm J\\cdot Hz}$.\n",
    "\n",
    "Suppose we want to compare the energy between an X-ray photon ($\\lambda_X = 1\\ {\\rm nm}$) and a green photon $(\\lambda_{\\rm green} = 530\\ {\\rm nm})$, we can take a ratio so that the constants $hc$ cancle out:\n",
    "\n",
    "$$ \\frac{E_X}{E_{\\rm green}} = \\frac{hc}{\\lambda_X} \\times \\frac{\\lambda_{\\rm green}}{hc} = \\frac{\\lambda_{green}}{\\lambda_X} = \\frac{530\\ {\\rm nm}}{1\\ {\\rm nm}} = 530.$$\n",
    "\n",
    "The $X$-ray photon has $530\\times$ more energy thatn the green photon at $530\\ {\\rm nm}$."
   ]
  },
  {
   "cell_type": "markdown",
   "metadata": {},
   "source": [
    "## Making Use of the Doppler Effect\n",
    "\n",
    "In many cases, the observed object is moving much less than the speed of light.  We can use the nonrelativistic form of the Doppler equation to determine the radial velocity $v_r$:\n",
    "\n",
    "\\begin{align*} \n",
    "v_r &= \\left(\\frac{\\lambda_{\\rm obs}-\\lambda_{\\rm rest}}{\\lambda_{\\rm rest}}\\right) c, \\\\\n",
    "&= \\left(\\frac{\\lambda_{\\rm obs}}{\\lambda_{\\rm rest}} - 1\\right)c.\n",
    "\\end{align*}\n",
    "\n",
    "One of the most prominent spectral lines is due to hydrogen's transition from $n=3$ to $n=2$, or the $H\\alpha$ line of the Balmer series.  In the lab (rest frame), we measure the rest wavelength as $656.3\\ {\\rm nm}$.  In the image below, $H\\alpha$ is the reddish line on the right.\n",
    "\n",
    "<img src=\"https://upload.wikimedia.org/wikipedia/commons/2/21/Visible_spectrum_of_hydrogen.jpg\" \n",
    "        alt=\"hyd-spectrum\" \n",
    "        width=\"800\" \n",
    "        style=\"display: block; margin: 0 auto\" />\n",
    "\n",
    "### Starting with a measured wavelength\n",
    "Suppose that you measure the spectrum of a distant object, where you find the $H\\alpha$ line at $659.0\\ {\\rm nm}$ instead of at the rest wavelength.  What is the radial velocity of the source?\n",
    "\n",
    "Using the relationship for the radial velocity, we find\n",
    "\n",
    "$$ v_r = \\left(\\frac{659.0\\ {\\rm nm} - 656.3\\ {\\rm nm}}{656.3\\ {\\rm nm}}\\right) \\left(3\\times 10^5\\ {\\rm km/s}\\right) = 1200\\ {\\rm km/s}. $$\n",
    "\n",
    "The object is moving away (red shift; positive numerator) from you with a radial velocity of $1200\\ {\\rm km/s}$.  **Note that we used the speed of light converted to $\\rm km/s$ instead of in the usual units of $\\rm m/s$.**\n",
    "\n",
    "### Starting with a measured radial velocity\n",
    "Suppose you read that the radial velocity of our closest stellar neighbor ([Proxima Centauri](https://en.wikipedia.org/wiki/Proxima_Centauri)) is moving toward us with a radial velocity of $-21.6\\ {\\rm km/s}$.  You want to verify this result using a magnesium source as a reference, which has a bright green line with a rest wavelength of $517.27\\ {\\rm nm}$.  \n",
    "\n",
    "<img src=\"https://ircamera.as.arizona.edu/Astr2016/images/Frauenhofer.jpg\" \n",
    "        alt=\"Mg-spectrum\" \n",
    "        width=\"500\" \n",
    "        style=\"display: block; margin: 0 auto\" />\n",
    "\n",
    "What was the observed wavelength in order for the researchers to report a radial velocity of $-21.6\\ {\\rm km/s}$?\n",
    "\n",
    "We can solve this problem by re-arranging the Doppler equation to\n",
    "\n",
    "$$ \\lambda_{\\rm obs} = \\left(1 + \\frac{v_r}{c}\\right) \\lambda_{\\rm rest} $$\n",
    "\n",
    "and substituting to get\n",
    "\n",
    "$$ \\lambda_{\\rm obs} = \\left(1 + \\frac{-21.6\\ {\\rm km/s}}{3\\times 10^5\\ {\\rm km/s}}\\right) \\left(517.27\\ {\\rm nm}\\right) = 517.23\\ {\\rm nm}. $$\n",
    "\n",
    "The observed wavelength will be shorter than the rest wavelength because it is a blueshift.  The observed Doppler shift will be $\\lambda_{\\rm obs} - \\lambda_{\\rm rest} = -0.04\\ {\\rm nm}$.  This is a small shift, but it is easily measured with modern instruments.\n",
    "\n",
    "Below are python scripts demonstrating how to perform the calculations."
   ]
  },
  {
   "cell_type": "code",
   "execution_count": 4,
   "metadata": {},
   "outputs": [
    {
     "name": "stdout",
     "output_type": "stream",
     "text": [
      "The measured radial velocity is 1233 km/s.\n",
      "---------------\n",
      "The expected observed wavelength for Mg I with the given radial velocity is 517.23 nm.\n"
     ]
    }
   ],
   "source": [
    "from scipy.constants import c\n",
    "\n",
    "Halpha_rest = 656.3 #rest wavelength of H-alpha\n",
    "Halpha_obs = 659.0 #observed wavelength of H-alpha\n",
    "c_kms = c/1000 #converted speed of light to km/s\n",
    "\n",
    "v_r = (Halpha_obs-Halpha_rest)/Halpha_rest*c_kms \n",
    "print(\"The measured radial velocity is %04i km/s.\" % v_r)\n",
    "print(\"---------------\")\n",
    "\n",
    "Mg_rest = 517.27 #rest wavelength of the Mg I line (in nm)\n",
    "vr_measured = -21.6 #reported radial velocity of Proxima Cen (in km/s)\n",
    "lamb_obs = (1+vr_measured/c_kms)*Mg_rest\n",
    "print(\"The expected observed wavelength for Mg I with the given radial velocity is %3.2f nm.\" % lamb_obs)"
   ]
  },
  {
   "cell_type": "markdown",
   "metadata": {},
   "source": [
    "## Working with the Stefan-Bolztmann Law and Wien's Law\n",
    "\n",
    "### Stefan-Boltzmann Law\n",
    "The Stefan-Boltzmann law can be used to estimate the luminosity (if you are given radius and temperature) or flux (if you are given just temperature) of objects that behave like a blackbody.  The Sun has an effective surface temperature of $5777\\ {\\rm K}$ and a [radius](https://en.wikipedia.org/wiki/Solar_radius) of $6.957 \\times 10^5\\ {\\rm km}$.  Using the [Stefan-Boltzmann constant](https://en.wikipedia.org/wiki/Stefan%E2%80%93Boltzmann_law) $(\\sigma = 5.67 \\times 10^{-8}\\ {\\rm W\\ m^{-2}\\ K^{-4}})$, we can determine the solar flux and luminosity at the surface.\n",
    "\n",
    "The solar flux (how much power per $\\rm km^2$) is given by\n",
    "\n",
    "$$ \\mathcal{F}_{\\rm Sun} = \\sigma T^4 = \\left(5.67 \\times 10^{-8}\\ {\\rm W\\ m^{-2}\\ K^{-4}}\\right)\\left(5777\\ {\\rm K}\\right)^4 = 6.32 \\times 10^7\\ {\\rm W/m^2}, $$\n",
    "\n",
    "where the luminosity is simply the surface area $A_{\\rm Sun} (= 4\\pi R_{\\rm sun}^2)$ mutliplied by the flux.  The solar luminosity can be calculated as\n",
    "\n",
    "\\begin{align*}\n",
    "L_\\odot &= \\mathcal{F}_{\\rm Sun} \\times A_{\\rm Sun}, \\\\\n",
    "&= \\left(6.32 \\times 10^7\\ {\\rm W/m^2}\\right)\\left(4\\pi \\times [6.957 \\times 10^8\\ {\\rm m}]^2\\right), \\\\\n",
    "&= 3.84 \\times 10^{26}\\ {\\rm W}.\n",
    "\\end{align*}\n",
    "\n",
    "How does the Earth compare to the Sun?\n",
    "\n",
    "Given that the Earth's average temperature is $288\\ {\\rm K}$, we can calculate the flux ratio as\n",
    "\n",
    "\\begin{align*}\n",
    "\\frac{\\mathcal{F}_{\\rm Earth}}{\\mathcal{F}_{\\rm Sun}} &= \\left(\\frac{\\sigma T_{\\rm Earth}}{T_{\\rm Sun}}\\right)^4, \\\\\n",
    "&= \\left(\\frac{288\\ {\\rm K}}{5777\\ {\\rm K}}\\right)^4 = 6.18 \\times 10^{-6}, \\\\\n",
    "\\mathcal{F}_{\\rm Earth} &= 6.18 \\times 10^{-6}\\ \\mathcal{F}_{\\rm Sun}.\\\n",
    "\\end{align*}\n",
    "\n",
    "The Earth emits about 6 millionths of the energy per square meter that the Sun does each second.\n",
    "\n",
    "Using the Earth's radius $(6371\\ {\\rm km})$, we can also compare the luminosity\n",
    "\n",
    "\\begin{align*}\n",
    "\\frac{L_{\\rm Earth}}{L_\\odot} &= \\left(\\frac{R_\\oplus}{R_\\odot}\\right)^2 \\left(\\frac{\\mathcal{F}_{\\rm Earth}}{\\mathcal{F}_{\\rm Sun}}\\right), \\\\\n",
    "&= \\left(\\frac{6371\\ {\\rm km}}{6.957 \\times 10^5\\ {\\rm km}}\\right)^2 \\left(6.18 \\times 10^{-6}\\right), \\\\\n",
    "&= 5.18 \\times 10^{-10}, \\\\\n",
    "L_{\\rm Earth} &= 5.18 \\times 10^{-10}\\ {L_\\odot}.\n",
    "\\end{align*}\n",
    "\n",
    "The Earth emits $10^{10}$ times less light than the Sun.  This is important for the search for exoplanets using direct imaging because it shows the contrast-ratio between a Sun-like star and the Earth is ${\\sim}10^{-10}$.  This is not yet acheivable with modern instruments, however future missions (e.g., Habitable Worlds Observatory) may be up to the job.\n",
    "\n",
    "Below are python scripts demonstrating how to perform the calculations."
   ]
  },
  {
   "cell_type": "code",
   "execution_count": 8,
   "metadata": {},
   "outputs": [
    {
     "name": "stdout",
     "output_type": "stream",
     "text": [
      "The solar flux is 6.32e+07 W/m^2.\n",
      "----------------\n",
      "The solar luminosity is 3.84e+26 W.\n",
      "---------------\n",
      "The Earth-Sun flux ratio is 6.18e-06.\n",
      "---------------\n",
      "The Earth-Sun luminosity ratio is 5.18e-10.\n"
     ]
    }
   ],
   "source": [
    "import numpy as np\n",
    "from scipy.constants import sigma \n",
    "\n",
    "Tsun_eff = 5777 #effective temperature of the Sun's surface (in K)\n",
    "F_sun = sigma*Tsun_eff**4\n",
    "R_sun = 6.957e8 #solar radius (in m)\n",
    "\n",
    "print(\"The solar flux is %1.2e W/m^2.\" % F_sun)\n",
    "print(\"----------------\")\n",
    "\n",
    "A_sun = 4*np.pi*R_sun**2\n",
    "L_sun = A_sun*F_sun \n",
    "print(\"The solar luminosity is %1.2e W.\" % L_sun)\n",
    "print(\"---------------\")\n",
    "\n",
    "TEarth = 288 #average temperature of the Earth (in K)\n",
    "F_ratio = (TEarth/Tsun_eff)**4\n",
    "print(\"The Earth-Sun flux ratio is %1.2e.\" % F_ratio)\n",
    "print(\"---------------\")\n",
    "\n",
    "R_Earth = 6371 #Earth radius (in km)\n",
    "L_ratio = (R_Earth/(R_sun/1000))**2*F_ratio \n",
    "print(\"The Earth-Sun luminosity ratio is %1.2e.\" % L_ratio)"
   ]
  },
  {
   "cell_type": "markdown",
   "metadata": {},
   "source": [
    "\n",
    "### Wien's Law"
   ]
  }
 ],
 "metadata": {
  "kernelspec": {
   "display_name": "base",
   "language": "python",
   "name": "python3"
  },
  "language_info": {
   "codemirror_mode": {
    "name": "ipython",
    "version": 3
   },
   "file_extension": ".py",
   "mimetype": "text/x-python",
   "name": "python",
   "nbconvert_exporter": "python",
   "pygments_lexer": "ipython3",
   "version": "3.11.5"
  }
 },
 "nbformat": 4,
 "nbformat_minor": 2
}
