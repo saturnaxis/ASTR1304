{
 "cells": [
  {
   "cell_type": "markdown",
   "metadata": {},
   "source": [
    "# Ch 1: Thinking Like an Astronomer"
   ]
  },
  {
   "cell_type": "markdown",
   "metadata": {},
   "source": [
    "## Mathematical Tools\n",
    "\n",
    "The main difference between modern science and prior systems of inquiry is through the use of mathematics to precisely describe the patterns observed.  The language of mathematics was developed over centuries to provide a more precise means of communicating ideas.  Below are some mathematical ideas that are useful in our study of astronomy:\n",
    "\n",
    "- **Scientific Notation**: method to conveniently represent numbers that are very *large* and *small*.  Writing out a large number (e.g., the speed of light in m/s) can be simplified by condensing the unused zeros with a power of 10.\n",
    "\n",
    "    - The speed of light $c$ is often quoted as (rounded to) $300,000,000\\ \\rm m/s$.  However, this value can be condensed in scientific notation by counting the number of trailing zeros or by counting the number of spaces to move the decimal leftward so that the leading digit is $3$.  \n",
    "    - In this case there are $8$ zeros, so that we can represent $c = 3 \\times 10^8\\ {\\rm m/s}$, where the number of zeros (or spaces moved leftward) are in the exponent.\n",
    "    - The same process can be applied to very small numbers (e.g., the size of the hydrogen atom).  The Bohr radius $a_o$ is $0.00000000005291\\ \\rm m$ in decimal form, but in scientific notation it becomes $5.291 \\times 10^{-11}\\ \\rm m$.\n",
    "    - Below is a video demonstrating how to input values in scientific notation into your calculator (using an Iphone).  The process is similar for Android phones and other calculators.  Additionally there is a demonstration for how to code values in scientific notation in Python.\n",
    "\n",
    "<div align=\"center\">\n",
    "\n",
    "<iframe width=\"560\" height=\"315\"\n",
    "src=\"https://www.youtube.com/embed/RxhEYbYYaU\" \n",
    "frameborder=\"0\" \n",
    "allow=\"accelerometer; autoplay; encrypted-media; gyroscope; picture-in-picture\" \n",
    "allowfullscreen></iframe>\n",
    "\n",
    "</div>\n"
   ]
  },
  {
   "cell_type": "code",
   "execution_count": 2,
   "metadata": {},
   "outputs": [
    {
     "name": "stdout",
     "output_type": "stream",
     "text": [
      "The frequency of light at 500 nm is 6e+14 Hz.\n"
     ]
    }
   ],
   "source": [
    "#speed of light; c = 3 x 10^8 m/s\n",
    "#wavelength of light; lambda = 500 nm = 5 x 10^-7 m\n",
    "\n",
    "c = 3e8 #the exoponent from the power of 10 comes after the \"e\"\n",
    "lamb = 5e-7 #this notation can include negative exponents too\n",
    "\n",
    "freq = c/lamb #once coded, you can use the values to perform calculations\n",
    "\n",
    "print(\"The frequency of light at 500 nm is %1.0e Hz.\" % freq)"
   ]
  }
 ],
 "metadata": {
  "kernelspec": {
   "display_name": "base",
   "language": "python",
   "name": "python3"
  },
  "language_info": {
   "codemirror_mode": {
    "name": "ipython",
    "version": 3
   },
   "file_extension": ".py",
   "mimetype": "text/x-python",
   "name": "python",
   "nbconvert_exporter": "python",
   "pygments_lexer": "ipython3",
   "version": "3.11.5"
  }
 },
 "nbformat": 4,
 "nbformat_minor": 2
}
