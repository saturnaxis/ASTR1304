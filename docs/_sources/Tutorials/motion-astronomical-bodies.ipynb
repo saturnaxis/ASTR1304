{
 "cells": [
  {
   "cell_type": "markdown",
   "metadata": {},
   "source": [
    "# Motion of Astronomical Bodies"
   ]
  },
  {
   "cell_type": "markdown",
   "metadata": {},
   "source": [
    "## Orbital Periods\n",
    "\n",
    "Copernicus determined the scale of the Solar System from observations, in particular using the *synodic period* $S$ and sidereal period $P$.  He didn't actually know the distance from the Earth to the Sun, so he (and others) let the Earth-Sun distance equal to $1$ (unity).\n",
    "    - [**Astronomical unit**](https://en.wikipedia.org/wiki/Astronomical_unit) (AU): the distance from the Earth to the Sun\n",
    "    - During Copernicus' time, the AU represented the actual distance; Later, it was redefined to be the *average* distance.  Today it's defined as fundamental constants (i.e., the speed of light).\n",
    "\n",
    "The sidereal period $P$ of a planet can be determined by comparing the planet's synodic period $S$ to the Earth's sidereal period $E = 365.25\\ {\\rm days} = 1\\ {\\rm yr}$.  However this comparison differs depending on whether the planet (in question) is on a superior or inferior orbit compared to the Earth.  The relations are given as\n",
    "\n",
    "\\begin{align*}\n",
    "\\frac{1}{P} &= \n",
    "    \\begin{cases} \n",
    "        \\frac{1}{E} + \\frac{1}{S}, \\quad \\text{(inferior)} \\\\\n",
    "        \\frac{1}{E} - \\frac{1}{S}. \\quad \\text{(superior)}\n",
    "    \\end{cases}\n",
    "\\end{align*}\n",
    "\n",
    "For Saturn (a superior orbit planet), the time that passes between oppositions (or the time between maximum brightness) is $378.1\\ {\\rm days} = 1.035\\ {\\rm yr}$.  Then we can calculate Saturn's sidereal period as\n",
    "\n",
    "\\begin{align*}\n",
    "\\frac{1}{P} &= \\frac{1}{1\\ {\\rm yr}} - \\frac{1}{1.035\\ {\\rm yr}} = 0.03399\\ {\\rm yr^{-1}}, \\\\\n",
    "P &= \\frac{1}{0.03399\\ {\\rm yr^{-1}}} = 29.42\\ {\\rm yr}.\n",
    "\\end{align*}\n",
    "\n",
    "**Saturn's sidereal period is 29.4 years**, which means that Saturn takes 29.4 years to return to the same spot while orbiting the Sun.\n",
    "\n",
    "In Copernicus' model, the planetary orbits were perfect circles.  \n",
    "\n",
    "- He needed to measure the time $t_O$ when a planet was at opposition (for outer planets) or inferior conjunction (for inner planets).\n",
    "- The time $t$ when the same planet was at quadrature (for outer planets) or elongation (for inner planets).  \n",
    "\n",
    "The difference in these times ($T = |t-t_O|$) would tell Copernicus what fraction of an orbit the planet had moved.  This would provide an estimate for the heliocentric longitude $\\lambda$ of the planet at quadrature or elongation.  See [here](https://astro.unl.edu/naap/ssm/ssm_advanced.html) for more details.\n",
    "\n",
    "$$ \\lambda = \\left(\\frac{T}{S}\\right) \\times 360^\\circ. $$\n",
    "\n",
    "Recall that the special points (quadrature or elongation) form right triangles, where one angle is $90^\\circ$ and another angle will be the heliocentric longitude $\\lambda$.  In both cases, one side of the triangle will be the Earth-Sun distance (i.e., 1 AU).  Copernicus only need to use trigonometry to find the side corresponding to the planet-Sun distance $d_p$.  The following relations describe the trigonometry required for a planet on an inferior or superior orbit:\n",
    "\n",
    "\\begin{align*}\n",
    "d_p &= \\begin{cases}\n",
    "    \\cos{\\lambda}, \\quad \\text{(inferior)} \\\\\n",
    "    \\frac{1}{\\cos{\\lambda}}. \\quad \\text{(superior)}\n",
    "    \\end{cases}\n",
    "\\end{align*}\n",
    "\n",
    "For Saturn, it takes ~3 months (0.24 yr) for Saturn to move from opposition to next quadrature because Earth is moving along its orbit too.  Using this estimate, we have \n",
    "$$\\lambda_{\\rm Sat} = \\left(\\frac{0.24\\ {\\rm yr}}{1.035\\ {\\rm yr}}\\right) \\times 360^\\circ = 84^\\circ.$$\n",
    "\n",
    "The Saturn-Sun distance is then \n",
    "\n",
    "$$d_{\\rm Sat} = \\frac{1\\ {\\rm AU}}{\\cos{(84^\\circ)}} = 9.56\\ {\\rm AU}.$$\n",
    "\n",
    "**Not too far from the modern value, $9.58\\ {\\rm AU}$.**"
   ]
  },
  {
   "cell_type": "markdown",
   "metadata": {},
   "source": [
    "## Kepler's 3rd Law"
   ]
  },
  {
   "cell_type": "markdown",
   "metadata": {},
   "source": [
    "## Using Newton's Laws"
   ]
  }
 ],
 "metadata": {
  "kernelspec": {
   "display_name": "base",
   "language": "python",
   "name": "python3"
  },
  "language_info": {
   "name": "python",
   "version": "3.11.5"
  }
 },
 "nbformat": 4,
 "nbformat_minor": 2
}
