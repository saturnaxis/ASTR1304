{
 "cells": [
  {
   "cell_type": "markdown",
   "metadata": {},
   "source": [
    "# Motion of Astronomical Bodies"
   ]
  },
  {
   "cell_type": "markdown",
   "metadata": {},
   "source": [
    "## Orbital Periods\n",
    "\n",
    "Copernicus determined the scale of the Solar System from observations, in particular using the *synodic period* $S$ and sidereal period $P$.  He didn't actually know the distance from the Earth to the Sun, so he (and others) let the Earth-Sun distance equal to $1$ (unity).\n",
    "    - [**Astronomical unit**](https://en.wikipedia.org/wiki/Astronomical_unit) (AU): the distance from the Earth to the Sun\n",
    "    - During Copernicus' time, the AU represented the actual distance; Later, it was redefined to be the *average* distance.  Today it's defined as fundamental constants (i.e., the speed of light).\n",
    "\n",
    "The sidereal period $P$ of a planet can be determined by comparing the planet's synodic period $S$ to the Earth's sidereal period $E = 365.25\\ {\\rm days} = 1\\ {\\rm yr}$.  However this comparison differs depending on whether the planet (in question) is on a superior or inferior orbit compared to the Earth.  The relations are given as\n",
    "\n",
    "\\begin{align*}\n",
    "\\frac{1}{P} &= \n",
    "    \\begin{cases} \n",
    "        \\frac{1}{E} + \\frac{1}{S}, \\quad \\text{(inferior)} \\\\\n",
    "        \\frac{1}{E} - \\frac{1}{S}. \\quad \\text{(superior)}\n",
    "    \\end{cases}\n",
    "\\end{align*}\n",
    "\n",
    "For Saturn (a superior orbit planet), the time that passes between oppositions (or the time between maximum brightness) is $378.1\\ {\\rm days} = 1.035\\ {\\rm yr}$.  Then we can calculate Saturn's sidereal period as\n",
    "\n",
    "\\begin{align*}\n",
    "\\frac{1}{P} &= \\frac{1}{1\\ {\\rm yr}} - \\frac{1}{1.035\\ {\\rm yr}} = 0.03399\\ {\\rm yr^{-1}}, \\\\\n",
    "P &= \\frac{1}{0.03399\\ {\\rm yr^{-1}}} = 29.42\\ {\\rm yr}.\n",
    "\\end{align*}"
   ]
  },
  {
   "cell_type": "code",
   "execution_count": 2,
   "metadata": {},
   "outputs": [
    {
     "name": "stdout",
     "output_type": "stream",
     "text": [
      "Saturn's sidereal period is 29.4 yr.\n"
     ]
    }
   ],
   "source": [
    "E = 365.25 #Earth's sidereal period (in days)\n",
    "S = 378.1 #Saturn's synodic period (in days)\n",
    "\n",
    "P_inv = 1- (E/S) #1/P (Saturn's siderial period)\n",
    "P = 1/P_inv \n",
    "\n",
    "print(\"Saturn's sidereal period is %2.1f yr.\" % P)"
   ]
  },
  {
   "cell_type": "markdown",
   "metadata": {},
   "source": [
    "\n",
    "**Saturn's sidereal period is 29.4 years**, which means that Saturn takes 29.4 years to return to the same spot while orbiting the Sun.\n",
    "\n",
    "In Copernicus' model, the planetary orbits were perfect circles.  \n",
    "\n",
    "- He needed to measure the time $t_O$ when a planet was at opposition (for outer planets) or inferior conjunction (for inner planets).\n",
    "- The time $t$ when the same planet was at quadrature (for outer planets) or elongation (for inner planets).  \n",
    "\n",
    "The difference in these times ($T = |t-t_O|$) would tell Copernicus what fraction of an orbit the planet had moved.  This would provide an estimate for the heliocentric longitude $\\lambda$ of the planet at quadrature or elongation.  See [here](https://astro.unl.edu/naap/ssm/ssm_advanced.html) for more details.\n",
    "\n",
    "$$ \\lambda = \\left(\\frac{T}{S}\\right) \\times 360^\\circ. $$\n",
    "\n",
    "Recall that the special points (quadrature or elongation) form right triangles, where one angle is $90^\\circ$ and another angle will be the heliocentric longitude $\\lambda$.  In both cases, one side of the triangle will be the Earth-Sun distance (i.e., 1 AU).  Copernicus only need to use trigonometry to find the side corresponding to the planet-Sun distance $d_p$.  The following relations describe the trigonometry required for a planet on an inferior or superior orbit:\n",
    "\n",
    "\\begin{align*}\n",
    "d_p &= \\begin{cases}\n",
    "    \\cos{\\lambda}, \\quad \\text{(inferior)} \\\\\n",
    "    \\frac{1}{\\cos{\\lambda}}. \\quad \\text{(superior)}\n",
    "    \\end{cases}\n",
    "\\end{align*}\n",
    "\n",
    "For Saturn, it takes ~88 days (0.241 yr) for Saturn to move from opposition to next quadrature because Earth is moving along its orbit too.  Using this estimate, we have \n",
    "\n",
    "$$\\lambda_{\\rm Sat} = \\left(\\frac{0.241\\ {\\rm yr}}{1.035\\ {\\rm yr}}\\right) \\times 360^\\circ = 83.8^\\circ.$$\n",
    "\n",
    "The Saturn-Sun distance is then \n",
    "\n",
    "$$d_{\\rm Sat} = \\frac{1\\ {\\rm AU}}{\\cos{(83.8^\\circ)}} = 9.3\\ {\\rm AU}.$$\n",
    "\n",
    "**Not too far from the modern value, $9.58\\ {\\rm AU}$.**"
   ]
  },
  {
   "cell_type": "code",
   "execution_count": 16,
   "metadata": {},
   "outputs": [
    {
     "name": "stdout",
     "output_type": "stream",
     "text": [
      "Saturn's heliocentric longitude at quadrature is 83.8 deg.\n",
      "The Saturn-Sun distance is 9.3 AU.\n"
     ]
    }
   ],
   "source": [
    "import numpy as np\n",
    "\n",
    "S = 1.035 #Saturn's synodic period (in yr)\n",
    "\n",
    "T = 0.241 # Time between Saturn's opposition and next quadrature (in yr)\n",
    "lamb = (T/S)*360. #heliocentric longitude (in degrees)\n",
    "\n",
    "print(\"Saturn's heliocentric longitude at quadrature is %2.1f deg.\" % lamb)\n",
    "\n",
    "d_sat = 1/np.cos(np.radians(lamb))\n",
    "print(\"The Saturn-Sun distance is %1.1f AU.\" % d_sat)\n"
   ]
  },
  {
   "cell_type": "markdown",
   "metadata": {},
   "source": [
    "### Python code demonstration\n",
    "Below is a python code that uses the n-body simulation software [rebound](https://rebound.readthedocs.io/en/latest/).  Earth (blue dot) and Saturn (red dot) begin at opposition, where the simulation is evolved forward by 89 days (cyan --> Earth; magenta --> Saturn).  The dashed-lines connect the Earth-Saturn-Sun configuration and illustrates that Saturn is near quadrature because Earth has move forward in its orbit. "
   ]
  },
  {
   "cell_type": "code",
   "execution_count": 35,
   "metadata": {},
   "outputs": [],
   "source": [
    "import rebound\n",
    "\n",
    "def runSim(t):\n",
    "    #run simulation forward by t days\n",
    "    sim = rebound.Simulation()\n",
    "    sim.integrator = 'whfast'\n",
    "    sim.units = ('AU','days','Msun')\n",
    "    sim.dt = 1\n",
    "\n",
    "    sim.add(m=1) # add Sun\n",
    "    sim.add(m=3.003e-6,a=1) #add Earth\n",
    "    sim.add(m=2.867e-4,a=9.58) #add Saturn\n",
    "    sim.move_to_hel()\n",
    "\n",
    "    #sim.save_to_file(\"archive.bin\", interval=10)\n",
    "    sim.integrate(t)\n",
    "\n",
    "    return sim"
   ]
  },
  {
   "cell_type": "code",
   "execution_count": 49,
   "metadata": {},
   "outputs": [
    {
     "data": {
      "image/png": "[encoded data removed]",
      "text/plain": [
       "<Figure size 900x900 with 1 Axes>"
      ]
     },
     "metadata": {},
     "output_type": "display_data"
    }
   ],
   "source": [
    "import numpy as np\n",
    "import matplotlib.pyplot as plt\n",
    "\n",
    "def plot_points(t):\n",
    "    col_E, col_Sat = 'b','r'\n",
    "    if t>0:\n",
    "        col_E, col_Sat = 'c','m'\n",
    "    sim = runSim(t)\n",
    "    ps = sim.particles\n",
    "    x_E, y_E  = ps[1].x,ps[1].y\n",
    "    x_Sat,y_Sat = ps[2].x,ps[1].y\n",
    "    ax.plot([0,x_E],[0,y_E],'k--',lw=2)\n",
    "    ax.plot([0,x_Sat],[0,y_Sat],'k--',lw=2)\n",
    "    ax.plot([x_E,x_Sat],[y_E,y_Sat],'k--',lw=2)\n",
    "    ax.plot(x_E,y_E,'.',color=col_E,ms=10)\n",
    "    ax.plot(x_Sat,y_Sat,'.',color=col_Sat,ms=15)\n",
    "\n",
    "fs = 'large'\n",
    "fig = plt.figure(figsize=(6,6),dpi=150)\n",
    "ax = fig.add_subplot(111)\n",
    "\n",
    "#draw orbits\n",
    "df = 0.01\n",
    "f_rng = np.arange(0,2*np.pi+df,df)\n",
    "ax.plot(np.cos(f_rng),np.sin(f_rng),'k-',lw=2)\n",
    "ax.plot(9.58*np.cos(f_rng),9.58*np.sin(f_rng),'k-',lw=2)\n",
    "\n",
    "#plot points\n",
    "ax.plot(0,0,'y.',ms=20)\n",
    "plot_points(0)\n",
    "plot_points(89)\n",
    "\n",
    "ax.set_ylim(-2.5,10)\n",
    "ax.set_xlim(-2.5,10)\n",
    "ax.set_xlabel(\"X (AU)\",fontsize=fs)\n",
    "ax.set_ylabel(\"Y (AU)\",fontsize=fs);"
   ]
  },
  {
   "cell_type": "markdown",
   "metadata": {},
   "source": [
    "## Kepler's 3rd Law\n",
    "\n",
    "Kepler's 3rd law relates the a planet's sideral (orbital) period $P$ squared to its semimajor axis (distance from the Sun) $a$ cubed.  By definition this limits the application of the Kepler's 3rd law (without Newton's contribution) to studies of planets orbiting Sun-like stars.  Mathematically, it can be given as\n",
    "\n",
    "$$ P^2 = a^3.$$\n",
    "\n",
    "**Note that the above formula assumes that the orbital period is given in years and the semimajor axis is in AU.**\n",
    "\n",
    "The discovery of Neptune in 1846 required observations of only a small portion of its orbit.  That was enough to estimate its orbital period using Kepler's 2nd law and measuring Neptune's speed along its orbit.  See the video below for a recap.\n",
    "\n",
    "<div align=\"center\">\n",
    "\n",
    "<iframe width=\"560\" height=\"315\"\n",
    "src=\"https://www.youtube.com/embed/ckOch3OAyFM\" \n",
    "frameborder=\"0\" \n",
    "allow=\"accelerometer; autoplay; encrypted-media; gyroscope; picture-in-picture\" \n",
    "allowfullscreen></iframe>\n",
    "\n",
    "</div>\n",
    "\n",
    "Assuming that the orbital period of Neptune is 165 years.  How big is its orbit?  In other words, how large is its semimajor axis?\n",
    "\n",
    "We can use Kepler's 3rd law directly to solve this problem.  By substitution, we can easily find that\n",
    "\n",
    "$$ (165\\ {\\rm yr})^2 = a^3, $$\n",
    "\n",
    "but we need to get the semimajor axis $a$ alone to answer the question.  One way to \"undo\" an exponent is to raise it to the inverse power.  To undo the square of a number, we simply raise the squared value to the $1/2$ power.  In our case, we can do the following:\n",
    "\n",
    "\\begin{align*}\n",
    "(165\\ {\\rm yr})^2 &= a^3, \\\\\n",
    "(165\\ {\\rm yr})^{2/3} &= a^{3/3}, \\\\\n",
    "a &= 165^{2/3}\\ {\\rm AU}, \\\\\n",
    " &= 30.1\\ {\\rm AU}.\n",
    "\\end{align*}\n",
    "\n",
    "**The semimajor axis of Neptune's orbit is 165 AU.**\n",
    "\n",
    "<div align=\"center\">\n",
    "\n",
    "<iframe width=\"560\" height=\"315\"\n",
    "src=\"https://www.youtube.com/embed/MVpzU7j8TJk\" \n",
    "frameborder=\"0\" \n",
    "allow=\"accelerometer; autoplay; encrypted-media; gyroscope; picture-in-picture\" \n",
    "allowfullscreen></iframe>\n",
    "\n",
    "</div>"
   ]
  },
  {
   "cell_type": "code",
   "execution_count": 51,
   "metadata": {},
   "outputs": [
    {
     "name": "stdout",
     "output_type": "stream",
     "text": [
      "The semimajor axis of Neptune is 30.1 AU.\n"
     ]
    }
   ],
   "source": [
    "P_Nep = 165\n",
    "a_Nep = P_Nep**(2./3.)\n",
    "\n",
    "print(\"The semimajor axis of Neptune is %2.1f AU.\" % a_Nep)"
   ]
  },
  {
   "cell_type": "markdown",
   "metadata": {},
   "source": [
    "## Using Newton's Laws\n",
    "\n",
    "Your acceleration can be measured by how your velocity changes over time.  This is given mathematically by\n",
    "\n",
    "$$ \\text{acceleration} = \\frac{\\text{How much velocity changes}}{\\text{How long it takes to happen}}. $$\n",
    "\n",
    "Suppose you are traveling at $60\\ {\\rm mph}$ (or ${\\sim}27\\ {\\rm m/s}$) down the highway.  Then you increase your speed to $70\\ {\\rm mph}$ (or ${\\sim}31\\ {\\rm m/s}$) over only 2 seconds.  Then your acceleration $a$ over that time is\n",
    "\n",
    "$$ a = \\frac{31\\ {\\rm m/s} - 27 {\\rm m/s}}{2\\ {\\rm s}} = \\frac{4}{2} = 2\\ {\\rm m/s^2}. $$\n",
    "\n",
    "The acceleration due to gravity that you feel standing still is $a_g = 9.8\\ {\\rm m/s^2}$.  Your (horizontal) accleration was approximately $20\\%$ that of Earth's gravity in that short burst.\n",
    "\n",
    "\n",
    "Now that you are in outer space, without a speedometer.  To measure your acceleration, you have to be more clever.  A way to do this indirectly is to instead measure the net force and your resistance to motion.  This is applying Newton's 2nd law, where\n",
    "\n",
    "$$ \\text{acceleration} = \\frac{\\text{Force}}{\\text{Mass}}. $$\n",
    "\n",
    "You're a 100-kg astronaut (adrift in space) trying to get back to a nearby space shuttle.  With no tether to pull on, how can you get back to the ship?\n",
    "\n",
    "You throw a 1-kg wrench directly away from the shuttle at a speed of $10\\ {\\rm m/s}$.  Newton's 3rd law says the wrench will apply a force back on you and because you threw the wrench *away* from the shuttle, the force will push you *towards* the shuttle.\n",
    "\n",
    "Because you have more mass (inertia) than the wrench, that means your acceleration will be less than that of the wrench.  Also, we can assume that the time $t$ for things to happen are equal for both you and the wrench.  Then we have\n",
    "\n",
    "$$ \\text{your mass} \\times \\frac{\\text{your speed}}{t} = \\text{wrench's mass} \\times \\frac{\\text{wrench's speed}}{t}. $$\n",
    "\n",
    "Canceling the $t$ and substituting the known masses and speeds:\n",
    "\n",
    "\\begin{align*} \n",
    "\\text{your speed} &= \\frac{1\\ {\\rm kg}}{100\\ {\\rm kg}} \\times 10\\ {\\rm m/s}, \\\\\n",
    "& = 0.1\\ {\\rm m/s}.\n",
    "\\end{align*}\n",
    "\n",
    "**You will drift toward the shuttle, but at a leisurely rate of only $10\\ {\\rm cm/s}$.**"
   ]
  }
 ],
 "metadata": {
  "kernelspec": {
   "display_name": "base",
   "language": "python",
   "name": "python3"
  },
  "language_info": {
   "codemirror_mode": {
    "name": "ipython",
    "version": 3
   },
   "file_extension": ".py",
   "mimetype": "text/x-python",
   "name": "python",
   "nbconvert_exporter": "python",
   "pygments_lexer": "ipython3",
   "version": "3.11.5"
  }
 },
 "nbformat": 4,
 "nbformat_minor": 2
}
